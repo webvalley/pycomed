{
  "cells": [
    {
      "cell_type": "markdown",
      "source": [
        "# Documentation for pycomed\n",
        "## Organizing the dataset\n",
        "In order to work with pycomed, your dataset needs to be specifically formatted following a schema used by pycomed to efficientely query all the data for you. Pycomed provides you with a specific class used to organize the dataset automatically for you. The organizer class needs two parameters: the input_path which is the path of the unorganized dataset and the output_path which is the folder in which your organized dataset files will be copied (currently pycomed copies the files and not moves them)."
      ],
      "metadata": {}
    },
    {
      "cell_type": "code",
      "source": [
        "import pycomed.io\n",
        "\ndataset_organizer = pycomed.io.DICOMDatasetOrganizer(input_path=\"My input path\", output_path=\"My output path\")"
      ],
      "outputs": [],
      "execution_count": null,
      "metadata": {
        "collapsed": false,
        "outputHidden": false,
        "inputHidden": false
      }
    },
    {
      "cell_type": "markdown",
      "source": [
        "## Reading the dataset\n",
        "After the organizer has been setted up we need to attach it to the reader which is a class responsible of providing methods to query data from your dataset with ease."
      ],
      "metadata": {}
    },
    {
      "cell_type": "code",
      "source": [
        "dataset_reader = pycomed.io.DICOMDatasetReader(dataset_organizer)"
      ],
      "outputs": [],
      "execution_count": null,
      "metadata": {
        "collapsed": false,
        "outputHidden": false,
        "inputHidden": false
      }
    },
    {
      "cell_type": "markdown",
      "source": [
        "### The scan object\n",
        "Pycomed works with an internal object which has a base it's a Scan object that has different childs depeding on the scan type you are querying. For example pycomed has the DICOMScan which is the Scan object specifically created to manage DICOM files. Every time you read data with the reader you will get a list of scan objects that vary depeding on the type of the reader."
      ],
      "metadata": {}
    },
    {
      "cell_type": "markdown",
      "source": [
        "### Getting all the scans\n",
        "If you want to get all the scans of the dataset use the following code:"
      ],
      "metadata": {}
    },
    {
      "cell_type": "code",
      "source": [
        "scans = dataset_reader.get_scans()"
      ],
      "outputs": [],
      "execution_count": null,
      "metadata": {}
    },
    {
      "cell_type": "markdown",
      "source": [
        "### Getting scans via filter function\n",
        "If you want more control on how the scans are filtered you can use the following code:"
      ],
      "metadata": {}
    },
    {
      "cell_type": "code",
      "source": [
        "import pydicom\n",
        "\n",
        "# The function will have as an argument the path of the scan and it must return true or false, where true tells\n",
        "# the reader to keep that scan, otherwise it will skip it.\n",
        "def filter_function(scan_path):\n",
        "    scan = pydicom.dcmread(scan_path)\n",
        "    return scan.SeriesNumber == 10\n",
        "\nscans = dataset_reader.get_scans(filter_function)"
      ],
      "outputs": [],
      "execution_count": null,
      "metadata": {}
    },
    {
      "cell_type": "markdown",
      "source": [
        "### Getting scans by patient name\n",
        "If you want to get all the scans of a specific patient use the following code:"
      ],
      "metadata": {}
    },
    {
      "cell_type": "code",
      "source": [
        "scans = dataset_reader.get_scans_by_patient_name(\"Patient name\")"
      ],
      "outputs": [],
      "execution_count": null,
      "metadata": {
        "collapsed": false,
        "outputHidden": false,
        "inputHidden": false
      }
    },
    {
      "cell_type": "markdown",
      "source": [
        "### Getting scans by acquisition date\n",
        "If you want to get all the scans acquiried between a date interval use the following code:"
      ],
      "metadata": {}
    },
    {
      "cell_type": "code",
      "source": [
        "import datetime\n",
        "\n",
        "# The date must be formatted following this schema.\n",
        "from_date = datetime.datetime.strptime(\"xxxxyyzz\", \"%Y%m%d\")\n",
        "to_date = datetime.datetime.strptime(\"xxxxyyzz\", \"%Y%m%d\")\n",
        "\nscans = dataset_reader.get_scans_by_acquisition_date(from_date, to_date)"
      ],
      "outputs": [],
      "execution_count": null,
      "metadata": {}
    },
    {
      "cell_type": "markdown",
      "source": [
        "### Getting scans by dimensions\n",
        "If you want to get all the scans with specific dimensions use the following code:"
      ],
      "metadata": {}
    },
    {
      "cell_type": "code",
      "source": [
        "width = 256\n",
        "height = 256\n",
        "depth = 30\n",
        "\nscans = dataset_reader.get_scans_by_size(width, height, depth)"
      ],
      "outputs": [],
      "execution_count": null,
      "metadata": {
        "collapsed": false,
        "outputHidden": false,
        "inputHidden": false
      }
    },
    {
      "cell_type": "markdown",
      "source": [
        "## Notes\n",
        "pycomed is currently in development state, so you might encounter some bugs and missing features. Feel free to write at riccardob36@gmail.com for infos, suggestions, bugs and general requests."
      ],
      "metadata": {}
    }
  ],
  "metadata": {
    "kernel_info": {
      "name": "node_nteract"
    },
    "language_info": {
      "name": "javascript",
      "version": "10.2.0",
      "mimetype": "application/javascript",
      "file_extension": ".js"
    },
    "kernelspec": {
      "name": "node_nteract",
      "language": "javascript",
      "display_name": "Node.js (nteract)"
    },
    "nteract": {
      "version": "0.12.3"
    }
  },
  "nbformat": 4,
  "nbformat_minor": 4
}